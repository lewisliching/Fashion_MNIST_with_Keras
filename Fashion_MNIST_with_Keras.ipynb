{
  "nbformat": 4,
  "nbformat_minor": 0,
  "metadata": {
    "colab": {
      "name": "Fashion MNIST with Keras.ipynb",
      "version": "0.3.2",
      "provenance": [],
      "collapsed_sections": [],
      "include_colab_link": true
    },
    "kernelspec": {
      "name": "python3",
      "display_name": "Python 3"
    },
    "accelerator": "GPU"
  },
  "cells": [
    {
      "cell_type": "markdown",
      "metadata": {
        "id": "view-in-github",
        "colab_type": "text"
      },
      "source": [
        "[View in Colaboratory](https://colab.research.google.com/github/lewisliching/Fashion_MNIST_with_Keras/blob/master/Fashion_MNIST_with_Keras.ipynb)"
      ]
    },
    {
      "metadata": {
        "id": "CXJyomi85Frq",
        "colab_type": "text"
      },
      "cell_type": "markdown",
      "source": [
        "##Fashion MNIST with Keras for getting start of Google Colab\n",
        "\n",
        "- Take Fashion MNIST with Keras as example of getting start Deep learning in Google Colab and Google Drive\n",
        "\n",
        "- Each Fashion image is 28 x 28 = 784 pixels in total.\n",
        "- Each pixel value is an integer between 0 and 255 with higher for darker.\n",
        "- In the csv dataset, each row is consist of  1 columns(1st column as label) and 784 columns (as 784 pixels of one image)\n",
        "- labels of 1st column is as follows:\n",
        "  0.\tT-shirt/top\n",
        "  1.\tTrouser\n",
        "  2.\tPullover\n",
        "  3.\tDress\n",
        "  4.\tCoat\n",
        "  5.\tSandal\n",
        "  6.\tShirt\n",
        "  7.\tSneaker\n",
        "  8.\tBag\n",
        "  9.\tAnkle boot\n",
        "\n",
        "- 60000 images in fashion-mnist_train.csv\n",
        "- 10000 images in fashion-mnist_test.csv\n",
        "\n",
        "\n",
        "- Reference:\n",
        "\n",
        " - https://www.kaggle.com/zalando-research/fashionmnist/home\n",
        " - https://github.com/zalandoresearch/fashion-mnist"
      ]
    },
    {
      "metadata": {
        "id": "l8foMygEsQjE",
        "colab_type": "text"
      },
      "cell_type": "markdown",
      "source": [
        "##Set up Working environemnt of Google Colab and Google drive\n",
        "\n",
        "- Supposed Tensorflow is ready under Googel Colab\n",
        "\n",
        "- Don't forget to set Python 3 and using GPU as accelerator in Google Colab\n",
        "\n",
        "- Install Keras, in which Numpy....libraries are updated as well\n",
        "\n",
        "- Install PyDrive for accessing Google drive and authorize Google Colab to access files"
      ]
    },
    {
      "metadata": {
        "id": "Jftu2XXm9asO",
        "colab_type": "code",
        "colab": {
          "base_uri": "https://localhost:8080/",
          "height": 121
        },
        "outputId": "564a0ed5-b98f-46e3-a696-6f71775e50a9"
      },
      "cell_type": "code",
      "source": [
        "!pip install keras\n",
        "!pip install -U -q PyDrive"
      ],
      "execution_count": 1,
      "outputs": [
        {
          "output_type": "stream",
          "text": [
            "Requirement already satisfied: keras in /usr/local/lib/python3.6/dist-packages (2.1.6)\r\n",
            "Requirement already satisfied: six>=1.9.0 in /usr/local/lib/python3.6/dist-packages (from keras) (1.11.0)\r\n",
            "Requirement already satisfied: h5py in /usr/local/lib/python3.6/dist-packages (from keras) (2.8.0)\r\n",
            "Requirement already satisfied: pyyaml in /usr/local/lib/python3.6/dist-packages (from keras) (3.13)\r\n",
            "Requirement already satisfied: scipy>=0.14 in /usr/local/lib/python3.6/dist-packages (from keras) (0.19.1)\r\n",
            "Requirement already satisfied: numpy>=1.9.1 in /usr/local/lib/python3.6/dist-packages (from keras) (1.14.5)\r\n"
          ],
          "name": "stdout"
        }
      ]
    },
    {
      "metadata": {
        "id": "uTzMIVHboWvF",
        "colab_type": "text"
      },
      "cell_type": "markdown",
      "source": [
        "##Connect Google drive for CSV files\n",
        "\n",
        "- Authenticate and create the PyDrive client and it will prompt for unique key of verify Google Colab can have access to Google Drive. Just click and copy the unique key and copy to the blank\n",
        "\n",
        "- Copy the Folder ID from URL bar of that folder\n",
        "\n",
        "- All files in that folder are listed with file ID in the format of title: xxx.csv, id: xxx\n",
        "\n",
        "- Use the files ID to open and load files into Google colab and create filename accordingly"
      ]
    },
    {
      "metadata": {
        "id": "7Y7ypsOG-FX-",
        "colab_type": "code",
        "colab": {
          "base_uri": "https://localhost:8080/",
          "height": 69
        },
        "outputId": "522c392e-5a66-4217-fc2a-2362c96db999"
      },
      "cell_type": "code",
      "source": [
        "from pydrive.auth import GoogleAuth\n",
        "from pydrive.drive import GoogleDrive\n",
        "from google.colab import auth\n",
        "from oauth2client.client import GoogleCredentials\n",
        "\n",
        "# Authenticate and create the PyDrive client.\n",
        "auth.authenticate_user()\n",
        "gauth = GoogleAuth()\n",
        "gauth.credentials = GoogleCredentials.get_application_default()\n",
        "drive = GoogleDrive(gauth)\n",
        "\n",
        "# list out files in folder of Google drive\n",
        "file_list = drive.ListFile({'q': \"'1xt6pBbi0fLeFeUqc4OuwD0SciUad9jhf' in parents and trashed=false\"}).GetList()\n",
        "for file1 in file_list:\n",
        "  print('title: %s, id: %s' % (file1['title'], file1['id']))\n",
        "\n",
        "# Load files into Google colab\n",
        "train_downloaded = drive.CreateFile({'id': '1nX2Igu-Yyk6s0PzRa6HXmJnovq_lD3P9'})\n",
        "train_downloaded.GetContentFile('fashion-mnist_train.csv')  \n",
        "test_downloaded = drive.CreateFile({'id': '1BQt3R3xe83Iiw2GQx7z_PrALfAmD7d4M'})\n",
        "test_downloaded.GetContentFile('fashion-mnist_test.csv')\n",
        "\n",
        "print('Files are loaded into Colab')"
      ],
      "execution_count": 2,
      "outputs": [
        {
          "output_type": "stream",
          "text": [
            "title: fashion-mnist_test.csv, id: 1BQt3R3xe83Iiw2GQx7z_PrALfAmD7d4M\n",
            "title: fashion-mnist_train.csv, id: 1nX2Igu-Yyk6s0PzRa6HXmJnovq_lD3P9\n",
            "Files are loaded into Colab\n"
          ],
          "name": "stdout"
        }
      ]
    },
    {
      "metadata": {
        "id": "WcZRS96foOBO",
        "colab_type": "text"
      },
      "cell_type": "markdown",
      "source": [
        "##Import CSV file into DataFrame(Pandas) from Colab\n",
        "\n",
        "- Using Pandas read_csv to read file in raw format\n",
        "\n",
        "- Printout header (1st 5 row) of DataFrame(df) for double checking (1st column label = 2 9 6 0 3)"
      ]
    },
    {
      "metadata": {
        "id": "hyEHaWcgoEVA",
        "colab_type": "code",
        "colab": {
          "base_uri": "https://localhost:8080/",
          "height": 251
        },
        "outputId": "b41c18ff-a76b-4f3b-fc9e-3e402ebfa5a9"
      },
      "cell_type": "code",
      "source": [
        "import numpy as np\n",
        "import pandas as pd\n",
        "import matplotlib.pyplot as plt\n",
        "from sklearn.model_selection import train_test_split\n",
        "\n",
        "train_df = pd.read_csv(r'fashion-mnist_train.csv')\n",
        "test_df = pd.read_csv(r'fashion-mnist_test.csv')\n",
        "\n",
        "# check df by printout 1st 5 rows\n",
        "train_df.head()"
      ],
      "execution_count": 3,
      "outputs": [
        {
          "output_type": "execute_result",
          "data": {
            "text/html": [
              "<div>\n",
              "<style scoped>\n",
              "    .dataframe tbody tr th:only-of-type {\n",
              "        vertical-align: middle;\n",
              "    }\n",
              "\n",
              "    .dataframe tbody tr th {\n",
              "        vertical-align: top;\n",
              "    }\n",
              "\n",
              "    .dataframe thead th {\n",
              "        text-align: right;\n",
              "    }\n",
              "</style>\n",
              "<table border=\"1\" class=\"dataframe\">\n",
              "  <thead>\n",
              "    <tr style=\"text-align: right;\">\n",
              "      <th></th>\n",
              "      <th>label</th>\n",
              "      <th>pixel1</th>\n",
              "      <th>pixel2</th>\n",
              "      <th>pixel3</th>\n",
              "      <th>pixel4</th>\n",
              "      <th>pixel5</th>\n",
              "      <th>pixel6</th>\n",
              "      <th>pixel7</th>\n",
              "      <th>pixel8</th>\n",
              "      <th>pixel9</th>\n",
              "      <th>...</th>\n",
              "      <th>pixel775</th>\n",
              "      <th>pixel776</th>\n",
              "      <th>pixel777</th>\n",
              "      <th>pixel778</th>\n",
              "      <th>pixel779</th>\n",
              "      <th>pixel780</th>\n",
              "      <th>pixel781</th>\n",
              "      <th>pixel782</th>\n",
              "      <th>pixel783</th>\n",
              "      <th>pixel784</th>\n",
              "    </tr>\n",
              "  </thead>\n",
              "  <tbody>\n",
              "    <tr>\n",
              "      <th>0</th>\n",
              "      <td>2</td>\n",
              "      <td>0</td>\n",
              "      <td>0</td>\n",
              "      <td>0</td>\n",
              "      <td>0</td>\n",
              "      <td>0</td>\n",
              "      <td>0</td>\n",
              "      <td>0</td>\n",
              "      <td>0</td>\n",
              "      <td>0</td>\n",
              "      <td>...</td>\n",
              "      <td>0</td>\n",
              "      <td>0</td>\n",
              "      <td>0</td>\n",
              "      <td>0</td>\n",
              "      <td>0</td>\n",
              "      <td>0</td>\n",
              "      <td>0</td>\n",
              "      <td>0</td>\n",
              "      <td>0</td>\n",
              "      <td>0</td>\n",
              "    </tr>\n",
              "    <tr>\n",
              "      <th>1</th>\n",
              "      <td>9</td>\n",
              "      <td>0</td>\n",
              "      <td>0</td>\n",
              "      <td>0</td>\n",
              "      <td>0</td>\n",
              "      <td>0</td>\n",
              "      <td>0</td>\n",
              "      <td>0</td>\n",
              "      <td>0</td>\n",
              "      <td>0</td>\n",
              "      <td>...</td>\n",
              "      <td>0</td>\n",
              "      <td>0</td>\n",
              "      <td>0</td>\n",
              "      <td>0</td>\n",
              "      <td>0</td>\n",
              "      <td>0</td>\n",
              "      <td>0</td>\n",
              "      <td>0</td>\n",
              "      <td>0</td>\n",
              "      <td>0</td>\n",
              "    </tr>\n",
              "    <tr>\n",
              "      <th>2</th>\n",
              "      <td>6</td>\n",
              "      <td>0</td>\n",
              "      <td>0</td>\n",
              "      <td>0</td>\n",
              "      <td>0</td>\n",
              "      <td>0</td>\n",
              "      <td>0</td>\n",
              "      <td>0</td>\n",
              "      <td>5</td>\n",
              "      <td>0</td>\n",
              "      <td>...</td>\n",
              "      <td>0</td>\n",
              "      <td>0</td>\n",
              "      <td>0</td>\n",
              "      <td>30</td>\n",
              "      <td>43</td>\n",
              "      <td>0</td>\n",
              "      <td>0</td>\n",
              "      <td>0</td>\n",
              "      <td>0</td>\n",
              "      <td>0</td>\n",
              "    </tr>\n",
              "    <tr>\n",
              "      <th>3</th>\n",
              "      <td>0</td>\n",
              "      <td>0</td>\n",
              "      <td>0</td>\n",
              "      <td>0</td>\n",
              "      <td>1</td>\n",
              "      <td>2</td>\n",
              "      <td>0</td>\n",
              "      <td>0</td>\n",
              "      <td>0</td>\n",
              "      <td>0</td>\n",
              "      <td>...</td>\n",
              "      <td>3</td>\n",
              "      <td>0</td>\n",
              "      <td>0</td>\n",
              "      <td>0</td>\n",
              "      <td>0</td>\n",
              "      <td>1</td>\n",
              "      <td>0</td>\n",
              "      <td>0</td>\n",
              "      <td>0</td>\n",
              "      <td>0</td>\n",
              "    </tr>\n",
              "    <tr>\n",
              "      <th>4</th>\n",
              "      <td>3</td>\n",
              "      <td>0</td>\n",
              "      <td>0</td>\n",
              "      <td>0</td>\n",
              "      <td>0</td>\n",
              "      <td>0</td>\n",
              "      <td>0</td>\n",
              "      <td>0</td>\n",
              "      <td>0</td>\n",
              "      <td>0</td>\n",
              "      <td>...</td>\n",
              "      <td>0</td>\n",
              "      <td>0</td>\n",
              "      <td>0</td>\n",
              "      <td>0</td>\n",
              "      <td>0</td>\n",
              "      <td>0</td>\n",
              "      <td>0</td>\n",
              "      <td>0</td>\n",
              "      <td>0</td>\n",
              "      <td>0</td>\n",
              "    </tr>\n",
              "  </tbody>\n",
              "</table>\n",
              "<p>5 rows × 785 columns</p>\n",
              "</div>"
            ],
            "text/plain": [
              "   label  pixel1  pixel2  pixel3  pixel4  pixel5  pixel6  pixel7  pixel8  \\\n",
              "0      2       0       0       0       0       0       0       0       0   \n",
              "1      9       0       0       0       0       0       0       0       0   \n",
              "2      6       0       0       0       0       0       0       0       5   \n",
              "3      0       0       0       0       1       2       0       0       0   \n",
              "4      3       0       0       0       0       0       0       0       0   \n",
              "\n",
              "   pixel9    ...     pixel775  pixel776  pixel777  pixel778  pixel779  \\\n",
              "0       0    ...            0         0         0         0         0   \n",
              "1       0    ...            0         0         0         0         0   \n",
              "2       0    ...            0         0         0        30        43   \n",
              "3       0    ...            3         0         0         0         0   \n",
              "4       0    ...            0         0         0         0         0   \n",
              "\n",
              "   pixel780  pixel781  pixel782  pixel783  pixel784  \n",
              "0         0         0         0         0         0  \n",
              "1         0         0         0         0         0  \n",
              "2         0         0         0         0         0  \n",
              "3         1         0         0         0         0  \n",
              "4         0         0         0         0         0  \n",
              "\n",
              "[5 rows x 785 columns]"
            ]
          },
          "metadata": {
            "tags": []
          },
          "execution_count": 3
        }
      ]
    },
    {
      "metadata": {
        "id": "sAWDDZvpdwHc",
        "colab_type": "text"
      },
      "cell_type": "markdown",
      "source": [
        "## Load DataFrame (Pandas) to Array (Numpy) for further data analysis\n",
        "\n",
        "- A Series object in pandas represents a one-dimensional labeled indexed array based on the NumPy ndarray. \n",
        "\n",
        "- NumPy allows us to work with high-performance N-dimensional array for selecting array elements, logical operations, slicing, reshaping, combining(stacking), splitting...etc.\n",
        "\n",
        "- A series object is more efficient than using  N-dimensional for aligning data or label matching while N-dimensional array is more efficient in data manipulation. Thus, this is the reason why we load data from Data Frame to Array with:\n",
        "\n",
        "  1. Data Splitting (X & Y for both train data and test data)\n",
        "  2. Data Normalization by 255 (range of 0 - 255 integer of each pixel)\n",
        "  3. Print out dimension of arrays for double checking\n",
        "  4. Print out one of image of x_train for double checking (any number e.g. 50000)"
      ]
    },
    {
      "metadata": {
        "id": "7Zr5kWSkdhMf",
        "colab_type": "code",
        "colab": {
          "base_uri": "https://localhost:8080/",
          "height": 417
        },
        "outputId": "c7947e28-7c32-4dc4-dea9-3361751c9e26"
      },
      "cell_type": "code",
      "source": [
        "train_data = np.array(train_df, dtype='float32')\n",
        "test_data = np.array(test_df, dtype='float32')\n",
        "\n",
        "# all rows from column 1 till end\n",
        "# all rows of column 0\n",
        "x_train = train_data[:, 1:]/255\n",
        "y_train = train_data[:, 0]\n",
        "\n",
        "x_test = test_data[:, 1:]/255\n",
        "y_test = test_data[:, 0]\n",
        "\n",
        "print('x_train:', x_train.shape)\n",
        "print('y_train:', y_train.shape)\n",
        "print(' x_test:', x_test.shape)\n",
        "print(' y_test:', y_test.shape)\n",
        "\n",
        "#take 5000 row data of x_train and reshape into 28x28 array\n",
        "image = x_train[50000, :].reshape(28,28)\n",
        "plt.imshow(image)\n",
        "plt.show()"
      ],
      "execution_count": 4,
      "outputs": [
        {
          "output_type": "stream",
          "text": [
            "x_train: (60000, 784)\n",
            "y_train: (60000,)\n",
            " x_test: (10000, 784)\n",
            " y_test: (10000,)\n"
          ],
          "name": "stdout"
        },
        {
          "output_type": "display_data",
          "data": {
            "image/png": "[encoded data removed]",
            "text/plain": [
              "<matplotlib.figure.Figure at 0x7f5df86ee080>"
            ]
          },
          "metadata": {
            "tags": []
          }
        }
      ]
    },
    {
      "metadata": {
        "id": "P3rCiml6rTow",
        "colab_type": "text"
      },
      "cell_type": "markdown",
      "source": [
        "##Splitting train data into train data and validate date for model training\n",
        "\n",
        "- From library sklearn, we use train_test_split for data splitting\n",
        "  - test size = 0.2 is meant splitting data into 80% and 20%\n",
        "  - random_state = 123 (or any number) is keep consistent result of same randomize picking. If we want to true random picking everytime, just don't set this value"
      ]
    },
    {
      "metadata": {
        "id": "4SlePIBlmoL3",
        "colab_type": "code",
        "colab": {
          "base_uri": "https://localhost:8080/",
          "height": 52
        },
        "outputId": "e8d49ac4-ba15-4bee-9924-212a3828184e"
      },
      "cell_type": "code",
      "source": [
        "\n",
        "x_training, x_validate, y_training, y_validate = train_test_split(\n",
        "  x_train, y_train, test_size=0.2, random_state=123, \n",
        ")\n",
        "print('x_training:', x_training.shape)\n",
        "print('x_validate:', x_validate.shape)\n"
      ],
      "execution_count": 6,
      "outputs": [
        {
          "output_type": "stream",
          "text": [
            "x_training: (48000, 784)\n",
            "x_validate: (12000, 784)\n"
          ],
          "name": "stdout"
        }
      ]
    }
  ]
}